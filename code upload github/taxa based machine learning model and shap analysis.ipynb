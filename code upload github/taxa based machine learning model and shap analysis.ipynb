{
 "cells": [
  {
   "cell_type": "code",
   "execution_count": null,
   "id": "6ddfade0-76cd-466b-aa85-59b976f18642",
   "metadata": {},
   "outputs": [],
   "source": [
    "import numpy as np\n",
    "import  matplotlib.pyplot as plt\n",
    "import pandas as pd\n",
    "\n",
    "from sklearn.ensemble import RandomForestClassifier\n",
    "from sklearn.metrics import roc_auc_score\n",
    "\n",
    "from sklearn.model_selection import KFold,cross_val_score\n",
    "from sklearn import preprocessing\n",
    "\n",
    "from sklearn.model_selection import train_test_split\n",
    "from collections import Counter\n",
    "\n",
    "import pandas as pd\n",
    "import numpy as np\n",
    "import matplotlib.pyplot as plt\n",
    "import seaborn as sns \n",
    "from sklearn.model_selection import StratifiedKFold\n",
    "from sklearn.metrics import roc_curve, auc\n",
    "import xgboost as xgb"
   ]
  },
  {
   "cell_type": "markdown",
   "id": "d4ea87a8",
   "metadata": {},
   "source": [
    "### only covariates"
   ]
  },
  {
   "cell_type": "code",
   "execution_count": null,
   "id": "6b3fdf2f-93cc-4143-8b6b-f190d852b511",
   "metadata": {},
   "outputs": [],
   "source": [
    "dat0 = pd.read_csv('cov_mbdat.csv')\n",
    "\n",
    "dat = dat0.sample(frac=1, random_state=2).reset_index(drop=True)\n",
    "data_x=dat.drop(['xlid','y'],axis=1)\n",
    "data_y=np.array(dat['y'])\n",
    "\n",
    "cat_cols = data_x.select_dtypes(include=['object']).columns\n",
    "num_cols = data_x.select_dtypes(exclude=['object']).columns\n",
    "data_x_dum = pd.get_dummies(data_x, columns=cat_cols,dtype=int)\n",
    "data_x=data_x_dum\n",
    "\n",
    "xtrain,xtest,ytrain,ytest = train_test_split(data_x,data_y,test_size=0.2,random_state=222,shuffle=False)"
   ]
  },
  {
   "cell_type": "markdown",
   "id": "0c012b79-b8ae-4fe4-8ff9-d9da57b6d8c9",
   "metadata": {},
   "source": [
    "##### Random Forest"
   ]
  },
  {
   "cell_type": "code",
   "execution_count": null,
   "id": "641d1419-94ab-4c26-9a00-71b545579e8b",
   "metadata": {},
   "outputs": [],
   "source": [
    "from bayes_opt import BayesianOptimization"
   ]
  },
  {
   "cell_type": "code",
   "execution_count": null,
   "id": "74675342-29ac-4609-8848-59d90fba5036",
   "metadata": {},
   "outputs": [],
   "source": [
    "stratified_cv = StratifiedKFold(n_splits=5, shuffle=False)"
   ]
  },
  {
   "cell_type": "code",
   "execution_count": null,
   "id": "85895f97-c26b-45a3-b652-f7c3735504cf",
   "metadata": {},
   "outputs": [],
   "source": [
    "def rf_cv(n_estimators, min_samples_split, max_features, max_depth):\n",
    "    val = cross_val_score(\n",
    "        RandomForestClassifier(n_estimators=int(n_estimators),\n",
    "            min_samples_split=int(min_samples_split),\n",
    "            max_features=min(max_features, 0.999), # float\n",
    "            max_depth=int(max_depth),\n",
    "            random_state=666),\n",
    "        data_x,  data_y, scoring='roc_auc', cv=stratified_cv,\n",
    "    ).mean()\n",
    "    return val"
   ]
  },
  {
   "cell_type": "code",
   "execution_count": null,
   "id": "7211d095-dc1c-469a-b9a0-09f6e4b8328e",
   "metadata": {},
   "outputs": [],
   "source": [
    "rf_bo = BayesianOptimization(\n",
    "        rf_cv,\n",
    "        {'n_estimators': (20,25),\n",
    "        'min_samples_split': (8, 15),\n",
    "        'max_features': (0.8, 1),\n",
    "        'max_depth': (8, 12)}\n",
    "    )"
   ]
  },
  {
   "cell_type": "code",
   "execution_count": null,
   "id": "f5df4717-348b-4f70-b1c6-d6679b0a134d",
   "metadata": {
    "scrolled": true
   },
   "outputs": [],
   "source": [
    "rf_bo.maximize()"
   ]
  },
  {
   "cell_type": "code",
   "execution_count": null,
   "id": "442472b8-7d92-4789-85aa-9f629b5473b7",
   "metadata": {},
   "outputs": [],
   "source": [
    "rf_bo.max"
   ]
  },
  {
   "cell_type": "code",
   "execution_count": null,
   "id": "95add81e-438d-43d2-a91f-6b17807f6cba",
   "metadata": {},
   "outputs": [],
   "source": [
    "rf = RandomForestClassifier(n_estimators=24, max_depth=9, max_features=0.8, min_samples_split=12,random_state=666)\n",
    "np.mean(cross_val_score(rf, data_x, data_y, cv=stratified_cv, scoring='roc_auc'))"
   ]
  },
  {
   "cell_type": "markdown",
   "id": "73ba2167-4434-475f-ac31-2c32bebf4000",
   "metadata": {},
   "source": [
    "##### Xgboost"
   ]
  },
  {
   "cell_type": "code",
   "execution_count": null,
   "id": "56a0ffdf-cc28-4222-839b-d3efce69e4ff",
   "metadata": {},
   "outputs": [],
   "source": [
    "from xgboost import XGBClassifier\n",
    "from bayes_opt import BayesianOptimization"
   ]
  },
  {
   "cell_type": "code",
   "execution_count": null,
   "id": "25506789-fd57-4bdb-a59d-17c3c5e04659",
   "metadata": {},
   "outputs": [],
   "source": [
    "def xgb_cv(n_estimators, max_depth, gamma, min_child_weight):\n",
    "    model = XGBClassifier(\n",
    "        n_estimators=int(n_estimators),  # 注意转为整数\n",
    "        max_depth=int(max_depth),\n",
    "        gamma=gamma,\n",
    "        min_child_weight=min_child_weight,\n",
    "        random_state=666\n",
    "    )\n",
    "    scores = cross_val_score(model,data_x, data_y, cv=stratified_cv, scoring='roc_auc')\n",
    "    return scores.mean()\n",
    "\n",
    "xgb_bo = BayesianOptimization(\n",
    "    xgb_cv,\n",
    "    {\n",
    "        'n_estimators': (20, 50), \n",
    "        'max_depth': (4, 8),\n",
    "        'gamma': (0.3, 0.7),\n",
    "        'min_child_weight': (3, 7)\n",
    "    }\n",
    ")\n",
    "xgb_bo.maximize()"
   ]
  },
  {
   "cell_type": "code",
   "execution_count": null,
   "id": "f4d29b0c-dbb6-42a8-840a-ce25e26dd2f6",
   "metadata": {},
   "outputs": [],
   "source": [
    "xgb_bo.max"
   ]
  },
  {
   "cell_type": "code",
   "execution_count": null,
   "id": "7295ede9-62a8-4f26-bc0c-dbcefbef2ac4",
   "metadata": {},
   "outputs": [],
   "source": [
    "xgb_model = XGBClassifier(gamma=0.3, \n",
    "                          max_depth=7, \n",
    "                          min_child_weight=5,\n",
    "                          n_estimators=43,random_state=666)\n",
    "np.mean(cross_val_score(xgb_model, data_x, data_y, cv=stratified_cv, scoring='roc_auc'))"
   ]
  },
  {
   "cell_type": "code",
   "execution_count": null,
   "id": "ff681bfe-0fcc-4a94-8e90-b35797874170",
   "metadata": {},
   "outputs": [],
   "source": [
    "plt.savefig('shap_summary_plot.png', bbox_inches='tight')\n",
    "plt.close()"
   ]
  },
  {
   "cell_type": "markdown",
   "id": "a3661a6c",
   "metadata": {},
   "source": [
    "### covariates and taxa"
   ]
  },
  {
   "cell_type": "code",
   "execution_count": null,
   "id": "d0cf50c8",
   "metadata": {},
   "outputs": [],
   "source": [
    "dat0 = pd.read_csv('covtax_mbdat.csv')\n",
    "\n",
    "dat = dat0.sample(frac=1, random_state=2).reset_index(drop=True)\n",
    "data_x=dat.drop(['xlid','y'],axis=1)\n",
    "data_y=np.array(dat['y'])\n",
    "\n",
    "cat_cols = data_x.select_dtypes(include=['object']).columns\n",
    "num_cols = data_x.select_dtypes(exclude=['object']).columns\n",
    "\n",
    "data_x_dum = pd.get_dummies(data_x, columns=cat_cols,dtype=int)\n",
    "data_x=data_x_dum"
   ]
  },
  {
   "cell_type": "code",
   "execution_count": null,
   "id": "3b826e15",
   "metadata": {},
   "outputs": [],
   "source": [
    "rf_bo = BayesianOptimization(\n",
    "        rf_cv,\n",
    "        {'n_estimators': (70,120),\n",
    "        'min_samples_split': (5, 8),\n",
    "        'max_features': (0.7, 0.9),\n",
    "        'max_depth': (3, 8)}\n",
    "    )\n",
    "rf_bo.maximize()"
   ]
  },
  {
   "cell_type": "code",
   "execution_count": null,
   "id": "7d82821b",
   "metadata": {},
   "outputs": [],
   "source": [
    "rf_bo.max"
   ]
  },
  {
   "cell_type": "code",
   "execution_count": null,
   "id": "4aacf057",
   "metadata": {},
   "outputs": [],
   "source": [
    "rf = RandomForestClassifier(n_estimators=97, max_depth=6, max_features=0.85, min_samples_split=5,random_state=666)\n",
    "print(np.mean(cross_val_score(rf, data_x, data_y, cv=stratified_cv, scoring='roc_auc')))"
   ]
  },
  {
   "cell_type": "code",
   "execution_count": null,
   "id": "bef0e8c0",
   "metadata": {},
   "outputs": [],
   "source": [
    "cv2 = StratifiedKFold(n_splits=5, shuffle=True)\n",
    "print(np.mean(cross_val_score(rf, data_x, data_y, cv=cv2, scoring='roc_auc')))"
   ]
  },
  {
   "cell_type": "code",
   "execution_count": null,
   "id": "803f2995",
   "metadata": {},
   "outputs": [],
   "source": [
    "model = RandomForestClassifier(random_state=42)\n",
    "cv = StratifiedKFold(n_splits=5, shuffle=True, random_state=42)\n",
    "\n",
    "X_base = data_x.iloc[:,14:]\n",
    "X_new = data_x\n",
    "\n",
    "y=data_y\n",
    "auc_base = cross_val_score(model, X_base, y, cv=cv, scoring='roc_auc').mean()\n",
    "auc_new = cross_val_score(model, X_new, y, cv=cv, scoring='roc_auc').mean()\n",
    "\n",
    "print(f\"baseAUC: {auc_base:.3f}, newAUC: {auc_new:.3f}, improve: {auc_new - auc_base:.3f}\")"
   ]
  },
  {
   "cell_type": "markdown",
   "id": "10d05931",
   "metadata": {},
   "source": [
    "### without parameter optimization"
   ]
  },
  {
   "cell_type": "code",
   "execution_count": null,
   "id": "8055d13a",
   "metadata": {},
   "outputs": [],
   "source": [
    "import numpy as np\n",
    "import pandas as pd\n",
    "import matplotlib.pyplot as plt\n",
    "from sklearn.ensemble import RandomForestClassifier\n",
    "from xgboost import XGBClassifier \n",
    "from sklearn.model_selection import StratifiedKFold\n",
    "from sklearn.metrics import (roc_curve, auc, accuracy_score, recall_score, \n",
    "                            precision_score, f1_score, confusion_matrix)\n",
    "from tqdm import tqdm\n",
    "from sklearn.linear_model import LogisticRegression"
   ]
  },
  {
   "cell_type": "code",
   "execution_count": null,
   "id": "92b3e10d",
   "metadata": {},
   "outputs": [],
   "source": [
    "dat = pd.read_csv('covtax_mbdat.csv')\n",
    "\n",
    "data_x=dat.drop(['xlid','y'],axis=1)\n",
    "data_y=np.array(dat['y'])\n",
    "\n",
    "cat_cols = data_x.select_dtypes(include=['object']).columns\n",
    "num_cols = data_x.select_dtypes(exclude=['object']).columns\n",
    "\n",
    "data_x_dum = pd.get_dummies(data_x, columns=cat_cols,dtype=int)\n",
    "data_x=data_x_dum"
   ]
  },
  {
   "cell_type": "code",
   "execution_count": null,
   "id": "b75bc05f",
   "metadata": {},
   "outputs": [],
   "source": [
    "X_base = data_x.iloc[:,14:]\n",
    "X_new = data_x\n",
    "\n",
    "y=data_y"
   ]
  },
  {
   "cell_type": "code",
   "execution_count": null,
   "id": "4c9d46a3",
   "metadata": {},
   "outputs": [],
   "source": [
    "jama_colors = {\n",
    "    'blue': '#357EBDFF',\n",
    "    'red': '#D43F3AFF',\n",
    "    'green': '#5CB85CFF',\n",
    "    'orange': '#EEA236FF'\n",
    "}\n",
    "n_repeats = 100  \n",
    "output_files = {\n",
    "    'rf': \"rf_100res.csv\",\n",
    "    'xgb': \"xgb_100res.csv\"\n",
    "}\n",
    "\n",
    "def initialize_results_storage():\n",
    "    return {\n",
    "        'results': [],\n",
    "        'roc_data': {\n",
    "            'base': {'tprs': [], 'aucs': []},\n",
    "            'new': {'tprs': [], 'aucs': []}\n",
    "        }\n",
    "    }\n",
    "\n",
    "rf_data = initialize_results_storage()\n",
    "xgb_data = initialize_results_storage()\n",
    "\n",
    "mean_fpr = np.linspace(0, 1, 100)"
   ]
  },
  {
   "cell_type": "code",
   "execution_count": null,
   "id": "029ac3ab",
   "metadata": {},
   "outputs": [],
   "source": [
    "for random_state in tqdm(range(n_repeats), desc=\"Processing\"):\n",
    "    cv = StratifiedKFold(n_splits=5, shuffle=True, random_state=random_state)\n",
    "    \n",
    "    # 初始化当前random_state的存储\n",
    "    def init_fold_metrics():\n",
    "        return {\n",
    "            'base': {'accuracy': [], 'precision': [], 'recall': [], \n",
    "                    'specificity': [], 'f1': [], 'auc': [], 'tpr': []},\n",
    "            'new': {'accuracy': [], 'precision': [], 'recall': [], \n",
    "                   'specificity': [], 'f1': [], 'auc': [], 'tpr': []}\n",
    "        }\n",
    "    \n",
    "    rf_metrics = init_fold_metrics()\n",
    "    xgb_metrics = init_fold_metrics()\n",
    "    lr_metrics = init_fold_metrics()\n",
    "    \n",
    "    for train_idx, test_idx in cv.split(X_base, y):\n",
    "        X_base_train, X_base_test = X_base.iloc[train_idx,:], X_base.iloc[test_idx,:]\n",
    "        X_new_train, X_new_test = X_new.iloc[train_idx,:], X_new.iloc[test_idx,:]\n",
    "        y_train, y_test = y[train_idx], y[test_idx]\n",
    "        \n",
    "        print(\"测试集负类样本数:\", np.sum(y_test == 0))\n",
    "        \n",
    "        models = {\n",
    "            'rf': RandomForestClassifier(random_state=random_state),\n",
    "            'xgb': XGBClassifier(random_state=random_state)\n",
    "        }\n",
    "        \n",
    "        for model_name, model in models.items():\n",
    "            # base model（only covariate）\n",
    "            model.fit(X_base_train, y_train)\n",
    "            y_pred_base = model.predict(X_base_test)\n",
    "            y_proba_base = model.predict_proba(X_base_test)[:, 1]\n",
    "            \n",
    "            # new mode (covariate + taxa)\n",
    "            model.fit(X_new_train, y_train)\n",
    "            y_pred_new = model.predict(X_new_test)\n",
    "            y_proba_new = model.predict_proba(X_new_test)[:, 1]\n",
    "            \n",
    "            for features, X_test, y_pred, y_proba in zip(\n",
    "                ['base', 'new'], \n",
    "                [X_base_test, X_new_test], \n",
    "                [y_pred_base, y_pred_new], \n",
    "                [y_proba_base, y_proba_new]\n",
    "            ):\n",
    "                tn, fp, fn, tp = confusion_matrix(y_test, y_pred).ravel()\n",
    "                metrics = rf_metrics if model_name == 'rf' else xgb_metrics\n",
    "                metrics[features]['accuracy'].append(accuracy_score(y_test, y_pred))\n",
    "                metrics[features]['precision'].append(precision_score(y_test, y_pred, zero_division=0))\n",
    "                metrics[features]['recall'].append(recall_score(y_test, y_pred))\n",
    "                metrics[features]['specificity'].append(tn / (tn + fp))\n",
    "                metrics[features]['f1'].append(f1_score(y_test, y_pred))\n",
    "                \n",
    "                fpr, tpr, _ = roc_curve(y_test, y_proba, drop_intermediate=False)\n",
    "                if fpr[0] != 0 or tpr[0] != 0:\n",
    "                    fpr = np.insert(fpr, 0, 0)\n",
    "                    tpr = np.insert(tpr, 0, 0)\n",
    "                metrics[features]['auc'].append(auc(fpr, tpr))\n",
    "                metrics[features]['tpr'].append(np.interp(mean_fpr, fpr, tpr))\n",
    "\n",
    "    def save_results(model_data, metrics, model_name):\n",
    "        record = {'random_state': random_state}\n",
    "        for features in ['base', 'new']:\n",
    "            for metric in ['accuracy', 'precision', 'recall', 'specificity', 'f1', 'auc']:\n",
    "                key = f\"{features}_{metric}\"\n",
    "                record[key] = np.mean(metrics[features][metric])\n",
    "            \n",
    "            model_data['roc_data'][features]['tprs'].append(np.mean(metrics[features]['tpr'], axis=0))\n",
    "            model_data['roc_data'][features]['aucs'].append(np.mean(metrics[features]['auc']))\n",
    "        \n",
    "        model_data['results'].append(record)\n",
    "    \n",
    "    save_results(rf_data, rf_metrics, 'rf')\n",
    "    save_results(xgb_data, xgb_metrics, 'xgb')"
   ]
  },
  {
   "cell_type": "code",
   "execution_count": null,
   "id": "a1e80d03",
   "metadata": {
    "scrolled": true
   },
   "outputs": [],
   "source": [
    "pd.DataFrame(rf_data['results']).to_csv(output_files['rf'], index=False)\n",
    "pd.DataFrame(xgb_data['results']).to_csv(output_files['xgb'], index=False)\n",
    "print(f\"RF save to {output_files['rf']}\")\n",
    "print(f\"XGBoost save to {output_files['xgb']}\")"
   ]
  },
  {
   "cell_type": "code",
   "execution_count": null,
   "id": "6dd6957b",
   "metadata": {},
   "outputs": [],
   "source": [
    "def print_summary(model_name, model_data):\n",
    "    print(f\"\\n=== {model_name.upper()} 统计汇总 ===\")\n",
    "    df = pd.DataFrame(model_data['results'])\n",
    "    for features in ['base', 'new']:\n",
    "        print(f\"\\n{features.upper()} 特征:\")\n",
    "        for metric in ['accuracy', 'precision', 'recall', 'specificity', 'f1', 'auc']:\n",
    "            col = f\"{features}_{metric}\"\n",
    "            mean_val = df[col].mean()\n",
    "            std_val = df[col].std()\n",
    "            print(f\"{metric:12s}: {mean_val:.3f} ± {std_val:.3f}\")\n",
    "\n",
    "print_summary('Random Forest', rf_data)\n",
    "print_summary('XGBoost', xgb_data)"
   ]
  },
  {
   "cell_type": "code",
   "execution_count": null,
   "id": "f1822464",
   "metadata": {},
   "outputs": [],
   "source": [
    "import numpy as np\n",
    "import matplotlib.pyplot as plt\n",
    "from matplotlib import rcParams\n",
    "\n",
    "def mm_to_inch(mm):\n",
    "    return mm / 25.4\n",
    "\n",
    "plt.rcParams['font.sans-serif'] = 'Arial'\n",
    "plt.rcParams['font.family'] = 'sans-serif'\n",
    "plt.rcParams['pdf.fonttype'] = 42  \n",
    "plt.rcParams['font.size'] = 6      \n",
    "\n",
    "nature_colors = {\n",
    "    'blue': \"#3C5488\",    \n",
    "    'red': \"#E64B35\",     \n",
    "    'green': \"#00A087\",  \n",
    "    'yellow': \"#F39B7F\",  \n",
    "}\n",
    "\n",
    "model_colors = {\n",
    "    'rf': {'base': nature_colors['blue'], 'new': nature_colors['red']},\n",
    "    'xgb': {'base': nature_colors['green'], 'new': nature_colors['yellow']}\n",
    "}\n"
   ]
  },
  {
   "cell_type": "code",
   "execution_count": null,
   "id": "9d04c2b8",
   "metadata": {},
   "outputs": [],
   "source": [
    "def plot_roc(model_name, model_data, colors, output_file, \n",
    "             figsize_mm=(90, 90), dpi=300):  # 默认90mm × 90mm\n",
    "    figsize = (mm_to_inch(figsize_mm[0]), mm_to_inch(figsize_mm[1]))\n",
    "    \n",
    "    fig, ax = plt.subplots(figsize=figsize, dpi=dpi)\n",
    "    \n",
    "    mean_fpr = np.linspace(0, 1, 100)\n",
    "    \n",
    "    for features in ['base', 'new']:\n",
    "        tprs = []\n",
    "        for tpr in model_data['roc_data'][features]['tprs']:\n",
    "            interp_tpr = np.interp(mean_fpr, mean_fpr, tpr)\n",
    "            interp_tpr[0] = 0.0\n",
    "            tprs.append(interp_tpr)\n",
    "        \n",
    "        mean_tpr = np.mean(tprs, axis=0)\n",
    "        mean_auc = np.mean(model_data['roc_data'][features]['aucs'])\n",
    "        std_auc = np.std(model_data['roc_data'][features]['aucs'])\n",
    "        \n",
    "        if features == 'base':\n",
    "            model_label = \"10 SocDemog\"\n",
    "        else:\n",
    "            model_label = \"10 SocDemog + 14 Tax\"\n",
    "            \n",
    "        ax.plot(mean_fpr, mean_tpr, color=colors[features],\n",
    "                label=f'{model_label} (AUC = {mean_auc:.2f}±{std_auc:.2f})',\n",
    "                lw=1.5, alpha=0.8)\n",
    "    \n",
    "    ax.plot([0, 1], [0, 1], '--', lw=1, color='gray', alpha=0.4)\n",
    "    \n",
    "    ax.set_xlim([-0.02, 1.02])\n",
    "    ax.set_ylim([-0.02, 1.02])\n",
    "    ax.set_xlabel('False Positive Rate', fontsize=6)\n",
    "    ax.set_ylabel('True Positive Rate', fontsize=6)\n",
    "    ax.set_title(f'{model_name} ROC Curves', fontsize=7, pad=4)\n",
    "    \n",
    "    ax.legend(loc=\"lower right\", fontsize=5, framealpha=0.5)\n",
    "    ax.grid(True, linestyle=':', alpha=0.3)\n",
    "    \n",
    "    plt.savefig(output_file, dpi=dpi, bbox_inches='tight', \n",
    "                pad_inches=0.05, transparent=True)\n",
    "    plt.close()\n",
    "\n"
   ]
  },
  {
   "cell_type": "code",
   "execution_count": null,
   "id": "4fcec1e3",
   "metadata": {},
   "outputs": [],
   "source": [
    "plot_roc('Random Forest', rf_data, \n",
    "         colors=model_colors['rf'],\n",
    "         output_file='RF_ROC.pdf',\n",
    "         figsize_mm=(87.5, 60))  # 90mm × 90mm\n",
    "\n",
    "plot_roc('XGBoost', xgb_data,\n",
    "         colors=model_colors['xgb'],\n",
    "         output_file='XGB_ROC.pdf',\n",
    "         figsize_mm=(87.5, 60))  # 90mm × 60mm"
   ]
  },
  {
   "cell_type": "code",
   "execution_count": null,
   "id": "5fa512b3",
   "metadata": {},
   "outputs": [],
   "source": [
    "import shap\n",
    "maxr=8\n",
    "\n",
    "rf_model=RandomForestClassifier(random_state=maxr)\n",
    "xgb_model=XGBClassifier(random_state=maxr)\n",
    "\n",
    "rf_model.fit(X_new, y)\n",
    "xgb_model.fit(X_new, y)\n",
    "\n",
    "\n",
    "explainer1 = shap.Explainer(rf_model, X_new)  \n",
    "explainer2 = shap.Explainer(xgb_model, X_new) \n",
    "\n",
    "shap_values1 = explainer1(X_new)\n",
    "shap_values2 = explainer2(X_new)"
   ]
  },
  {
   "cell_type": "code",
   "execution_count": null,
   "id": "26a2aab4",
   "metadata": {},
   "outputs": [],
   "source": [
    "shap.plots.bar(shap_values[:, :, 1], max_display=21)"
   ]
  },
  {
   "cell_type": "code",
   "execution_count": null,
   "id": "0060545b",
   "metadata": {},
   "outputs": [],
   "source": [
    "if len(shap_values.shape) == 3:\n",
    "    shap_values = shap_values[:, :, 1]\n",
    "shap.plots.bar(shap_values.mean(0), max_display=21)  # 显示前20个重要特征\n",
    "plt.close()"
   ]
  },
  {
   "cell_type": "code",
   "execution_count": null,
   "id": "8d6d2f67",
   "metadata": {},
   "outputs": [],
   "source": [
    "# plt.savefig('shap_importance_plot.png', bbox_inches='tight')\n",
    "#if，RF \n",
    "#shap.plots.bar(shap_values[:, :, 1], max_display=21)  # 显示前20个重要特征\n",
    "#if，XGB\n",
    "shap.plots.bar(shap_values.mean(0), max_display=21)  # 显示前20个重要特征\n",
    "plt.close()"
   ]
  },
  {
   "cell_type": "code",
   "execution_count": null,
   "id": "b8a479bc",
   "metadata": {},
   "outputs": [],
   "source": [
    "#shap.summary_plot(shap_values[..., 1], X_new, plot_type=\"dot\")  # RF\n",
    "shap.summary_plot(shap_values, X_new, plot_type=\"dot\")  # XGB"
   ]
  },
  {
   "cell_type": "code",
   "execution_count": null,
   "id": "83780816",
   "metadata": {},
   "outputs": [],
   "source": [
    "import matplotlib\n",
    "import matplotlib.pyplot as plt\n",
    "from matplotlib.collections import PathCollection \n",
    "from matplotlib import rcParams\n",
    "import shap\n",
    "\n",
    "rcParams['font.sans-serif'] = 'Arial' \n",
    "rcParams['font.size'] = 6            \n",
    "rcParams['pdf.fonttype'] = 42         \n",
    "\n",
    "fig_width_mm = 45  # \n",
    "fig_height_mm = 120 # \n",
    "figsize = (mm_to_inch(fig_width_mm), mm_to_inch(fig_height_mm))\n",
    "\n",
    "plt.figure(figsize=figsize) \n",
    "\n",
    "shap.summary_plot(\n",
    "    shap_values1[..., 1],         \n",
    "    X_new,                  \n",
    "    plot_type=\"dot\",             \n",
    "    show=False,                   \n",
    "    plot_size=None,               \n",
    "    max_display=20               \n",
    ")\n",
    "\n",
    "ax = plt.gca()  \n",
    "\n",
    "for collection in ax.collections:\n",
    "    if isinstance(collection, PathCollection):\n",
    "        collection.set_sizes([3]) \n",
    "\n",
    "for text in ax.texts[:]:\n",
    "    if 'High' in text.get_text().lower() or 'Low' in text.get_text().lower():\n",
    "        text.remove()\n",
    "    \n",
    "ax.set_xlabel('SHAP value (Random Forest)', fontsize=6) \n",
    "ax.tick_params(axis='both', labelsize=5) \n",
    "\n",
    "plt.savefig(\n",
    "    'rfshap_top20.pdf',  \n",
    "    dpi=300,\n",
    "    bbox_inches='tight',     \n",
    "    pad_inches=0.05,        \n",
    "    transparent=True        \n",
    ")\n",
    "plt.close()"
   ]
  },
  {
   "cell_type": "code",
   "execution_count": null,
   "id": "bc7ba8c7",
   "metadata": {},
   "outputs": [],
   "source": [
    "import matplotlib\n",
    "import matplotlib.pyplot as plt\n",
    "from matplotlib.collections import PathCollection\n",
    "from matplotlib import rcParams\n",
    "import shap\n",
    "\n",
    "rcParams['font.sans-serif'] = 'Arial'  \n",
    "rcParams['font.size'] = 6             \n",
    "rcParams['pdf.fonttype'] = 42        \n",
    "\n",
    "fig_width_mm = 45  # \n",
    "fig_height_mm = 120 # \n",
    "figsize = (mm_to_inch(fig_width_mm), mm_to_inch(fig_height_mm))\n",
    "\n",
    "plt.figure(figsize=figsize)  \n",
    "\n",
    "shap.summary_plot(\n",
    "    shap_values2,         \n",
    "    X_new,                 \n",
    "    plot_type=\"dot\",             \n",
    "    show=False,                 \n",
    "    plot_size=None,              \n",
    "    max_display=20               \n",
    ")\n",
    "\n",
    "ax = plt.gca() \n",
    "\n",
    "for collection in ax.collections:\n",
    "    if isinstance(collection, PathCollection): \n",
    "        collection.set_sizes([3])  \n",
    "\n",
    "for text in ax.texts[:]:\n",
    "    if 'High' in text.get_text().lower() or 'Low' in text.get_text().lower():\n",
    "        text.remove()\n",
    "    \n",
    "ax.set_xlabel('SHAP value (XGBoost)', fontsize=6)\n",
    "ax.tick_params(axis='both', labelsize=5) \n",
    "\n",
    "plt.savefig(\n",
    "    'xgbshap_top20.pdf',  \n",
    "    dpi=300,\n",
    "    bbox_inches='tight',     \n",
    "    pad_inches=0.05,         \n",
    "    transparent=True      \n",
    ")\n",
    "plt.close() "
   ]
  }
 ],
 "metadata": {
  "kernelspec": {
   "display_name": "Python 3 (ipykernel)",
   "language": "python",
   "name": "python3"
  },
  "language_info": {
   "codemirror_mode": {
    "name": "ipython",
    "version": 3
   },
   "file_extension": ".py",
   "mimetype": "text/x-python",
   "name": "python",
   "nbconvert_exporter": "python",
   "pygments_lexer": "ipython3",
   "version": "3.11.7"
  }
 },
 "nbformat": 4,
 "nbformat_minor": 5
}
